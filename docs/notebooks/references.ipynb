{
 "cells": [
  {
   "cell_type": "markdown",
   "id": "b7d955dc",
   "metadata": {},
   "source": [
    "# References #\n",
    "\n",
    "+ [Nassim Taleb, Statistical Consequences of Fat Tails (SCOFT), June 30, 2020](https://arxiv.org/abs/2001.10488)\n",
    "    + [Excellent code notes repo for SCOFT](https://github.com/FergM/fattails)\n",
    "    \n",
    "+ [Julie Carreau and Yoshua Bengio, A_Hybrid Pareto Model for Asymmetric Fat-Tailed Data - the univariate case, 2009](https://www.researchgate.net/publication/226293435_A_hybrid_Pareto_model_for_asymmetric_fat-tailed_data_The_univariate_case)\n",
    "\n",
    "+ [Kevin Dowd, et al, How Unlucky is 25-Sigma? March 24 2008](https://arxiv.org/pdf/1103.5672.pdf)\n",
    "\n",
    "+ [Natalie Packham, Tail-Risk Protection Trading Strategies, 31 Jul 2018](https://papers.ssrn.com/sol3/papers.cfm?abstract_id=2702275)\n",
    "\n",
    "+ [Kaj Nystrom and Jimmy Skoglund, A Framework for Scenario-based Risk\n",
    "Management, June 10, 2002](https://citeseerx.ist.psu.edu/viewdoc/download?doi=10.1.1.1057.3121&rep=rep1&type=pdf)\n",
    "\n",
    "+ [Benoit Mandelbrot, A Multifractal Model of Asset Returns, September 15, 1997](https://users.math.yale.edu/~bbm3/web_pdfs/Cowles1164.pdf)\n",
    "\n",
    "+ [Stuart Coles, An Introduction to Statistical Modeling of Extreme Values, 2001](https://www.springer.com/gp/book/9781852334598)\n",
    "\n",
    "+ [Voitalov, et al, Scale-free networks well done, published 18 October 2019](https://journals.aps.org/prresearch/pdf/10.1103/PhysRevResearch.1.033034)\n",
    "\n",
    "+ [Danielsson, et al, Using a Bootstrap Method to Choose the Sample Fraction in Tail Index Estimation, February 2001](https://www.sciencedirect.com/science/article/pii/S0047259X00919031)\n",
    "\n",
    "+ [Yongcheng Qi, Bootstrap and empirical likelihood methods in extremes, 2008](https://link.springer.com/article/10.1007/s10687-007-0049-8)\n",
    "\n",
    "+ [Eric Jondeau and Michael Rockinger, Testing for differences in the tails of stock-market returns, October 2001](https://www.sciencedirect.com/science/article/abs/pii/S0927539803000057)\n",
    "\n",
    "+ [Jon Danielsson, et al, Tail Index Estimation: Quantile Driven Threshold Selection, 2016](https://www.riskresearch.org/files/DanielssondeHaanErgundeVries2016.pdf)\n",
    "\n",
    "\n",
    "+ [Jon Danielsson and Casper G. de Vries, Value-at-Risk and Extreme Returns, November 26, 1997](https://papers.tinbergen.nl/98017.pdf)\n",
    "\n",
    "+ [Dennis W. Jansen and Casper G. de Vries, On the Frequency of Large Stock Returns: Putting Booms and Busts into Perspective, (Feb 1991)](https://www.jstor.org/stable/2109682)\n",
    "\n",
    "+ [Robert Hudson, Calculating and Comparing Security Returns is Harder than you Think: A Comparison between Logarithmic and Simple Returns,25 Feb 2013](https://www.sciencedirect.com/science/article/abs/pii/S1057521914001380)\n",
    "\n",
    "+ [Matteo Barigozzi, GARCH models, 2014](http://www.barigozzi.eu/bertinoro_mb_2014.pdf)\n",
    "\n",
    "+ [Bollerslev, T, Generalized autoregressive conditional heteroskedasticity, 1986](https://www.sciencedirect.com/science/article/abs/pii/0304407686900631)\n",
    "\n",
    "+ [Ding Ding, Modeling of Market Volatility with APARCH Model, May 2011](https://www.diva-portal.org/smash/get/diva2:417608/FULLTEXT01.pdf)\n",
    "\n",
    "+ [J. Peters, Estimating and forecasting volatility of stock indices using asymmetric GARCH models and ( Skewed ) Student-t densities, 2001](https://www.semanticscholar.org/paper/Estimating-and-forecasting-volatility-of-stock-and-Peters/f445493c46b3b4d52e958f69d502ccf8f03d51c3)\n",
    "\n",
    "+ [Repository of dependence of financial time-series studies](http://finance.martinsewell.com/stylized-facts/dependence/)\n",
    "\n"
   ]
  }
 ],
 "metadata": {
  "kernelspec": {
   "display_name": "Python 3 (ipykernel)",
   "language": "python",
   "name": "python3"
  },
  "language_info": {
   "codemirror_mode": {
    "name": "ipython",
    "version": 3
   },
   "file_extension": ".py",
   "mimetype": "text/x-python",
   "name": "python",
   "nbconvert_exporter": "python",
   "pygments_lexer": "ipython3",
   "version": "3.9.0"
  }
 },
 "nbformat": 4,
 "nbformat_minor": 5
}
