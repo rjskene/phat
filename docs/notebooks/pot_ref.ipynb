{
 "cells": [
  {
   "cell_type": "markdown",
   "id": "6978ba6f",
   "metadata": {},
   "source": [
    "# Peak-Over Threshold #\n",
    "\n",
    "# Estimating the Tail - PoT #\n",
    "\n",
    "Fat tails are difficult to estimate almost by definition. Because tail events are so infrequent and can be so dramatic, it is effectively impossible to know what distribution is in the tails. And even if we did know the distribution, the limited data points render the usual statistical methods useless for estimating parameters. Hence why Taleb discourages projecting or forecasting of fat tail processes, instead suggesting a focus on heuristics and approximate approaches to assess risk/reward.\n",
    "\n",
    "Still, without *some* kind of model, it's difficult to even make approximate assessments, so we will forge ahead. \n",
    "\n",
    "[Coles (2001, Ch. 4)](references.ipynb) outlines what appears to be the most accepted method for parameter estimation of fat tails: Threshold Modeling. The approach involves a fair amount of visual interpretation and subjective analysis relative to more common statistical methods. The Threshold Modeling approach agrees in particular with the generalized Pareto.\n",
    "\n",
    "The process is outlined as follows:\n",
    "\n",
    "+ the goal is to find some threshold of X, above which a fat tail will apply. this threshold is equivalent to the location parameter of the generalized Pareto.\n",
    "+ for reasons detailed in Coles, the conditional expectation of X exceeding some threshold is linear in the threshold:\n",
    "\n",
    "$$\n",
    "E(X - \\theta | X > \\theta) = \\frac{\\sigma_{\\theta_o} + \\epsilon\\theta}{1 - \\epsilon}\n",
    "\\\\\\text{where: } \\theta = \\text{ the threshold value}\n",
    "\\\\\\epsilon, \\text{ the shape parameter} = 1 / \\alpha\n",
    "\\\\\\sigma, \\text{ the scale parameter}\n",
    "$$\n",
    "\n",
    "+ because of this linear relationship, we can inspect a Mean Residual Life (MRL) plot for linearity of the mean excesses over a range of thresholds. this linearity would evidence a transition into a generalized Pareto distribution.\n",
    "+ we then fit the shape and scale parameters to the threshold excesses over a range of thresholds. the favored threshold occurs at the greatest threshold that continues to evidence low variability and tighter confidence bands.\n",
    "+ with the above, we can select a single threshold value and inspect visually the fit of the CDF, the Return Value / Period, the QQ Plot, and the PP Plot. the closer the data fits with the regression line and confidence bands in the extreme tails, the better the threshold estimate.\n",
    "\n",
    "See the excellent package [thresholdmodeling](https://github.com/iagolemos1) for more details."
   ]
  }
 ],
 "metadata": {
  "kernelspec": {
   "display_name": "Python 3 (ipykernel)",
   "language": "python",
   "name": "python3"
  },
  "language_info": {
   "codemirror_mode": {
    "name": "ipython",
    "version": 3
   },
   "file_extension": ".py",
   "mimetype": "text/x-python",
   "name": "python",
   "nbconvert_exporter": "python",
   "pygments_lexer": "ipython3",
   "version": "3.9.0"
  }
 },
 "nbformat": 4,
 "nbformat_minor": 5
}
