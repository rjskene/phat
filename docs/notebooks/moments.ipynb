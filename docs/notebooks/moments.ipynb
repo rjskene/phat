{
 "cells": [
  {
   "cell_type": "code",
   "execution_count": 31,
   "metadata": {},
   "outputs": [
    {
     "name": "stdout",
     "output_type": "stream",
     "text": [
      "The autoreload extension is already loaded. To reload it, use:\n",
      "  %reload_ext autoreload\n"
     ]
    }
   ],
   "source": [
    "%load_ext autoreload\n",
    "%autoreload 2\n",
    "\n",
    "import sys\n",
    "sys.path.insert(0,'../../../..')"
   ]
  },
  {
   "cell_type": "code",
   "execution_count": 32,
   "metadata": {},
   "outputs": [],
   "source": [
    "import os\n",
    "from datetime import datetime as dt\n",
    "import numpy as np\n",
    "import pandas as pd\n",
    "import scipy.stats as scist\n",
    "\n",
    "import matplotlib.pyplot as plt\n",
    "\n",
    "import tensorflow as tf\n",
    "\n",
    "from IPython.display import HTML\n",
    "from IPython.core.display import Markdown as md\n",
    "\n",
    "from tqdm.auto import tqdm, trange\n",
    "\n",
    "import yfinance as yf\n",
    "import arch\n",
    "import pmdarima\n",
    "\n",
    "from analysis.fincalcs import log_returns\n",
    "from analysis.options.pricing.phat import Phat\n",
    "from analysis.options.pricing.bootstrap.numpy import dbl_bs\n",
    "from analysis.options.pricing.learn.utils import DataSplit\n",
    "from analysis.options.pricing.learn.phatnet import PhatNet, PhatLoss, PhatMetric\n",
    "from analysis.options.pricing.utils import PriceSim"
   ]
  },
  {
   "cell_type": "markdown",
   "metadata": {},
   "source": [
    "## Moments ##\n",
    "\n",
    "We will show how to find the moments, in particular the variance, of the Phat distribution. The Phat distribution is a mixture model of two Carben distributions, each weighted 50%. Thus, the pdf of the Phat distribution is found as:"
   ]
  },
  {
   "cell_type": "markdown",
   "metadata": {},
   "source": [
    "$$\n",
    "f(x) = \\sum\\limits_{i=1}^nw_if_i(x)\n",
    "\\\\f(x) = 0.5*f_{\\textit{left}}(x) + 0.5*f_{\\textit{right}}(x)\n",
    "$$"
   ]
  },
  {
   "cell_type": "markdown",
   "metadata": {},
   "source": [
    "The Carben distribution has a piecewise density function, defined for a right-tail as:\n",
    "\n",
    "$$\n",
    "f_{\\textit{right}}(x) = \\left\\{ \\begin{array}{ll}\n",
    "      \\frac{1}{\\gamma} f_{\\mu,\\sigma}(x) & \\text{if } y\\leq a \\\\\n",
    "      \\frac{1}{\\gamma} g_{\\xi,a,b}(x) & \\text{if } y > a\\\\\n",
    "\\end{array} \\right.\n",
    "$$\n",
    "\n",
    "And for the left\n",
    "\n",
    "$$\n",
    "f_{\\textit{left}}(x) = \\left\\{ \\begin{array}{ll}\n",
    "      \\frac{1}{\\gamma} g_{\\xi,-a,b}(-x) & \\text{if } y < a \\\\\n",
    "       \\frac{1}{\\gamma} f_{\\mu,\\sigma}(x) & \\text{if } y \\geq a\\\\\n",
    "\\end{array} \\right.\n",
    "$$"
   ]
  },
  {
   "cell_type": "markdown",
   "metadata": {},
   "source": [
    "The moment generating function for a piecewise distributino is found as follows:\n",
    "\n",
    "$$\n",
    "M_x(n) = \\int_{-\\infty}^{+\\infty}e^{nx}f_X(x)\\delta x\n",
    "\\\\ = \\int_{-\\infty}^{+\\infty}e^{nx}\\left(.5*f_{\\textit{left}}(x) + .5*f_{\\textit{right}}(x)\\right)\\delta x\n",
    "$$\n",
    "\n",
    "$$\n",
    "\\\\ = \\int_{-\\infty}^{+\\infty}.5*e^{nx}f_{\\textit{left}}(x) + .5*e^{nx}f_{\\textit{right}}(x)\\delta x\n",
    "\\\\ = .5\\int_{-\\infty}^{+\\infty}e^{nx}f_{\\textit{left}}(x)\\delta x + .5\\int_{-\\infty}^{+\\infty}e^{nx}f_{\\textit{right}}(x)\\delta x\n",
    "\\\\ = .5*M_{left} + .5*M_{right}\n",
    "$$"
   ]
  },
  {
   "cell_type": "markdown",
   "metadata": {},
   "source": [
    "We'll start with the right term. The moment-generating function of a piecewise distribution is simply the sum of the integrals along the bounded ranges.\n",
    "\n",
    "$$\n",
    "M_{right} = \\frac{1}{\\gamma}\\int_{-\\infty}^{a}e^{nx}f_{\\mu,\\sigma}(x)\\delta x + \\frac{1}{\\gamma}\\int_{a}^{+\\infty}e^{nx}g_{\\xi,a,b}(x)\\delta x\n",
    "$$\n",
    "\n",
    "The body term is a truncated normal distribution. The moments of such functions are known and available in `scipy`. We know that the generalized Pareto is always restricted the interval $(a,\\infty)$, so the tail term is merely the generalized Pareto moment-generating function, MDF, scaled by $\\frac{1}{\\gamma}$. Thus,\n",
    "\n",
    "$$\n",
    "\\frac{1}{\\gamma}M_{\\mu,\\sigma,u}(n) + \\frac{1}{\\gamma}M_{\\xi,a,b}(n)\n",
    "$$\n",
    "where: $u$ is the upper bound of the body\n",
    "\n",
    "The second moment is the second derivative of $M$, so:\n",
    "\n",
    "$$\n",
    "\\frac{d^2}{dx}\\frac{1}{\\gamma}M_{\\mu,\\sigma,u}(2) + \\frac{d^2}{dx}\\frac{1}{\\gamma}M_{\\xi,a,b}(2)\n",
    "$$\n",
    "\n",
    "The constant multiplicative survives both differntiations so that:\n",
    "$$\n",
    "\\frac{1}{\\gamma}\\text{Var}_{\\mu,\\sigma,u} + \\frac{1}{\\gamma}\\text{Var}_{\\xi,a,b}\n",
    "$$"
   ]
  },
  {
   "cell_type": "markdown",
   "metadata": {},
   "source": [
    "Now for the left:\n",
    "\n",
    "$$\n",
    "M_{left}(n) = \\frac{1}{\\gamma}\\int_{-\\infty}^{a}e^{nx}g_{\\xi,-a,b}(-x)\\delta x\n",
    " + \\frac{1}{\\gamma}\\int_{a}^{+\\infty}e^{nx}f_{\\mu,\\sigma}(x)\\delta x\n",
    "\\\\=\\frac{1}{\\gamma}\\int_{-a}^{+\\infty}e^{nx}g_{\\xi,-a,b}(x)\\delta x\n",
    " + \\frac{1}{\\gamma}\\int_{a}^{+\\infty}e^{nx}f_{\\mu,\\sigma}(x)\\delta x\n",
    "$$"
   ]
  },
  {
   "cell_type": "markdown",
   "metadata": {},
   "source": [
    "Once again, the tail portion is the same moment-generating function as generalized Pareto. And once again, the body portion is a truncated normal, this time with a lower bound, so we can find the variance as:\n",
    "\n",
    "$$\n",
    "\\frac{1}{\\gamma}M_{\\xi,-a,b}(n) + \\frac{1}{\\gamma}M_{\\mu,\\sigma,l}(n)\n",
    "$$\n",
    "where: $l$ is the lower bound of the body\n",
    "\n",
    "The second moment is the second derivative of $M$, so:\n",
    "\n",
    "$$\n",
    "\\frac{d^2}{dx}\\frac{1}{\\gamma}M_{\\xi,-a,b}(2) + \\frac{d^2}{dx}\\frac{1}{\\gamma}M_{\\mu,\\sigma,l}(2)\n",
    "\\\\=\\frac{1}{\\gamma}\\text{Var}_{\\xi,-a,b} + \\frac{1}{\\gamma}\\text{Var}_{\\mu,\\sigma,l}\n",
    "$$"
   ]
  },
  {
   "cell_type": "code",
   "execution_count": 46,
   "metadata": {},
   "outputs": [],
   "source": [
    "phat = Phat(None, .1, .2, .2, .25)\n",
    "\n",
    "bvar = scist.truncnorm(\n",
    "    -np.inf, \n",
    "    phat.right.loc, \n",
    "    *phat.right.body.args\n",
    ").var()\n",
    "tvar = phat.right.tail.var()\n",
    "rvar = (bvar + tvar) / phat.right.gamma"
   ]
  },
  {
   "cell_type": "code",
   "execution_count": 47,
   "metadata": {},
   "outputs": [],
   "source": [
    "bvar = scist.truncnorm(\n",
    "    phat.left.loc,\n",
    "    np.inf, \n",
    "    *phat.left.body.args\n",
    ").var()\n",
    "tvar = phat.left.tail.var()\n",
    "lvar = (bvar + tvar) / phat.left.gamma"
   ]
  },
  {
   "cell_type": "code",
   "execution_count": 48,
   "metadata": {},
   "outputs": [
    {
     "data": {
      "text/plain": [
       "0.4828404012432034"
      ]
     },
     "execution_count": 48,
     "metadata": {},
     "output_type": "execute_result"
    }
   ],
   "source": [
    "lvar"
   ]
  },
  {
   "cell_type": "markdown",
   "metadata": {},
   "source": [
    "The variance for the Phat distribution is then: "
   ]
  },
  {
   "cell_type": "code",
   "execution_count": 49,
   "metadata": {
    "scrolled": true
   },
   "outputs": [
    {
     "data": {
      "text/plain": [
       "0.5732923559721449"
      ]
     },
     "execution_count": 49,
     "metadata": {},
     "output_type": "execute_result"
    }
   ],
   "source": [
    "np.mean((lvar, rvar))"
   ]
  },
  {
   "cell_type": "markdown",
   "metadata": {},
   "source": [
    "This is avialable as `var` method of the Phat distribution."
   ]
  },
  {
   "cell_type": "code",
   "execution_count": 64,
   "metadata": {},
   "outputs": [
    {
     "data": {
      "text/plain": [
       "0.5732923559721449"
      ]
     },
     "execution_count": 64,
     "metadata": {},
     "output_type": "execute_result"
    }
   ],
   "source": [
    "phat.var()"
   ]
  }
 ],
 "metadata": {
  "kernelspec": {
   "display_name": "Python 3",
   "language": "python",
   "name": "python3"
  },
  "language_info": {
   "codemirror_mode": {
    "name": "ipython",
    "version": 3
   },
   "file_extension": ".py",
   "mimetype": "text/x-python",
   "name": "python",
   "nbconvert_exporter": "python",
   "pygments_lexer": "ipython3",
   "version": "3.8.6"
  }
 },
 "nbformat": 4,
 "nbformat_minor": 4
}
