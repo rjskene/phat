{
 "cells": [
  {
   "cell_type": "markdown",
   "metadata": {},
   "source": [
    "# Moments #\n",
    "\n",
    "Here we show how to find the moments of the Phat distribution. As we know, the Phat distribution is a mixture model of two Carben distributions, each weighted 50%. Thus, the PDF of the Phat distribution is simply:\n",
    "\n",
    "$$\n",
    "f(x) = \\sum\\limits_{i=1}^nw_if_i(x)\n",
    "\\\\f(x) = 0.5*f_{\\textit{left}}(x) + 0.5*f_{\\textit{right}}(x)\n",
    "$$\n",
    "\n",
    "The Carben distribution has a piecewise density function, defined for a right-tail as:\n",
    "\n",
    "$$\n",
    "f_{\\textit{right}}(x) = \\left\\{ \\begin{array}{ll}\n",
    "      \\frac{1}{\\gamma} f_{\\mu,\\sigma}(x) & \\text{if } y\\leq a \\\\\n",
    "      \\frac{1}{\\gamma} g_{\\xi,a,b}(x) & \\text{if } y > a\\\\\n",
    "\\end{array} \\right.\n",
    "$$\n",
    "\n",
    "And for the left\n",
    "\n",
    "$$\n",
    "f_{\\textit{left}}(x) = \\left\\{ \\begin{array}{ll}\n",
    "      \\frac{1}{\\gamma} g_{\\xi,-a,b}(-x) & \\text{if } y < a \\\\\n",
    "       \\frac{1}{\\gamma} f_{\\mu,\\sigma}(x) & \\text{if } y \\geq a\\\\\n",
    "\\end{array} \\right.\n",
    "$$\n",
    "\n",
    "The MGF for a mixture model is simply the weighted average of MGF's of its components, shown as follows:\n",
    "\n",
    "$$\n",
    "M_x(n) = \\int_{-\\infty}^{+\\infty}e^{nx}f_X(x)\\delta x\n",
    "\\\\ = \\int_{-\\infty}^{+\\infty}e^{nx}\\left(.5*f_{\\textit{left}}(x) + .5*f_{\\textit{right}}(x)\\right)\\delta x\n",
    "$$\n",
    "\n",
    "$$\n",
    "\\\\ = \\int_{-\\infty}^{+\\infty}.5*e^{nx}f_{\\textit{left}}(x) + .5*e^{nx}f_{\\textit{right}}(x)\\delta x\n",
    "\\\\ = .5\\int_{-\\infty}^{+\\infty}e^{nx}f_{\\textit{left}}(x)\\delta x + .5\\int_{-\\infty}^{+\\infty}e^{nx}f_{\\textit{right}}(x)\\delta x\n",
    "\\\\ = .5*M_{left} + .5*M_{right}\n",
    "$$\n",
    "\n",
    "Thus, to find the moments of the Phat, we must find the MGFs of the component Carbens."
   ]
  },
  {
   "cell_type": "markdown",
   "metadata": {},
   "source": [
    "## Carben Right ##\n",
    "\n",
    "The MGF of a piecewise distribution is simply the sum of the integrals along the bounded ranges.\n",
    "\n",
    "$$\n",
    "M_{right}(n) = \\frac{1}{\\gamma}\\int_{-\\infty}^{a}e^{nx}f_{\\mu,\\sigma}(x)\\delta x + \\frac{1}{\\gamma}\\int_{a}^{+\\infty}e^{nx}g_{\\xi,a,b}(x)\\delta x\n",
    "$$\n",
    "\n",
    "The body term is a truncated normal distribution. The moments of such functions are known and available in `scipy`. We know that the generalized Pareto is always restricted the interval $(a,\\infty)$, so the tail term is merely the MGF of generalized Pareto scaled by $\\frac{1}{\\gamma}$. Thus,\n",
    "\n",
    "$$\n",
    "\\frac{1}{\\gamma}M_{\\mu,\\sigma,u}(n) + \\frac{1}{\\gamma}M_{\\xi,a,b}(n)\n",
    "$$\n",
    "where: $u$ is the upper bound of the body"
   ]
  },
  {
   "cell_type": "markdown",
   "metadata": {},
   "source": [
    "## Carben Left ##\n",
    "\n",
    "Now for the left:\n",
    "\n",
    "$$\n",
    "M_{left}(n) = \\frac{1}{\\gamma}\\int_{-\\infty}^{a}e^{nx}g_{\\xi,-a,b}(-x)\\delta x\n",
    " + \\frac{1}{\\gamma}\\int_{a}^{+\\infty}e^{nx}f_{\\mu,\\sigma}(x)\\delta x\n",
    "\\\\=\\frac{1}{\\gamma}\\int_{-a}^{+\\infty}e^{nx}g_{\\xi,-a,b}(x)\\delta x\n",
    " + \\frac{1}{\\gamma}\\int_{a}^{+\\infty}e^{nx}f_{\\mu,\\sigma}(x)\\delta x\n",
    "$$\n",
    "\n",
    "Once again, the tail portion is the MGF of the generalized Pareto. And once again, the body portion is a truncated normal, this time with a lower bound, so the MGF is found as:\n",
    "\n",
    "$$\n",
    "\\frac{1}{\\gamma}M_{\\xi,-a,b}(n) + \\frac{1}{\\gamma}M_{\\mu,\\sigma,l}(n)\n",
    "$$\n",
    "where: $l$ is the lower bound of the body"
   ]
  },
  {
   "cell_type": "markdown",
   "metadata": {},
   "source": [
    "## Mean ##\n",
    "\n",
    "The first moment is the first derivative of $M$, so:\n",
    "\n",
    "$$\n",
    "\\mu_{\\textit{right}} = \\frac{d}{dx}\\frac{1}{\\gamma}M_{\\mu,\\sigma,u}(1) + \\frac{d}{dx}\\frac{1}{\\gamma}M_{\\xi,a,b}(1)\n",
    "\\\\\\mu_{\\textit{left}} = \\frac{d}{dx}\\frac{1}{\\gamma}M_{\\xi,-a,b}(1) + \\frac{d}{dx}\\frac{1}{\\gamma}M_{\\mu,\\sigma,l}(1)\n",
    "$$\n",
    "\n",
    "In both instances, the constant multiplicative survives the differentiations. For the left tail, in order to reflect its true location, $a$, we must invert the sign:\n",
    "$$\n",
    "\\mu_{\\textit{phat}} = .5*\\mu_{\\textit{right}} + .5*\\mu_{\\textit{left}}\n",
    "\\\\\\mu_{\\textit{right}} = \\frac{1}{\\gamma}\\text{Mean}_{\\mu,\\sigma,u} + \\frac{1}{\\gamma}\\text{Mean}_{\\xi,a,b}\n",
    "\\\\\\mu_{\\textit{left}} = -\\frac{1}{\\gamma}\\text{Mean}_{\\xi,-a,b} + \\frac{1}{\\gamma}\\text{Mean}_{\\mu,\\sigma,l}\n",
    "$$\n",
    "\n",
    "Finding mean of the Phat distribution programmatically is thus fairly trivial."
   ]
  },
  {
   "cell_type": "code",
   "execution_count": 1,
   "metadata": {},
   "outputs": [],
   "source": [
    "import numpy as np\n",
    "import scipy.stats as scist\n",
    "\n",
    "import phat as ph"
   ]
  },
  {
   "cell_type": "code",
   "execution_count": 2,
   "metadata": {},
   "outputs": [],
   "source": [
    "phat = ph.Phat(.1, .2, .2, .25)\n",
    "\n",
    "bmu = scist.truncnorm(\n",
    "    -np.inf, \n",
    "    phat.right.loc, \n",
    "    *phat.right.body.args\n",
    ").mean()\n",
    "tmu = phat.right.tail.mean()\n",
    "rmu = (bmu + tmu) / phat.right.gamma\n",
    "\n",
    "bmu = scist.truncnorm(\n",
    "    phat.left.loc,\n",
    "    np.inf, \n",
    "    *phat.left.body.args\n",
    ").mean()\n",
    "tmu = -phat.left.tail.mean()\n",
    "lmu = (bmu + tmu) / phat.left.gamma"
   ]
  },
  {
   "cell_type": "markdown",
   "metadata": {},
   "source": [
    "The mean of the Phat distribution is:"
   ]
  },
  {
   "cell_type": "code",
   "execution_count": 3,
   "metadata": {},
   "outputs": [
    {
     "data": {
      "text/plain": [
       "0.1426574558489754"
      ]
     },
     "execution_count": 3,
     "metadata": {},
     "output_type": "execute_result"
    }
   ],
   "source": [
    "np.mean((lmu, rmu))"
   ]
  },
  {
   "cell_type": "markdown",
   "metadata": {},
   "source": [
    "We can see the mean of the Phat in the above example is close to, but slightly higher than the mean of the Gaussian body, $\\mu$. This results from the greater tail index in the right tail used in the example."
   ]
  },
  {
   "cell_type": "code",
   "execution_count": 5,
   "metadata": {},
   "outputs": [
    {
     "data": {
      "text/plain": [
       "0.1426574558489754"
      ]
     },
     "execution_count": 5,
     "metadata": {},
     "output_type": "execute_result"
    }
   ],
   "source": [
    "phat.mean()"
   ]
  },
  {
   "cell_type": "markdown",
   "metadata": {},
   "source": [
    "## Variance ##\n",
    "\n",
    "The second moment is the second derivative of $M$, so:\n",
    "\n",
    "$$\n",
    "\\text{Var}_{\\textit{right}} = \\frac{d^2}{dx}\\frac{1}{\\gamma}M_{\\mu,\\sigma,u}(2) + \\frac{d^2}{dx}\\frac{1}{\\gamma}M_{\\xi,a,b}(2)\n",
    "\\\\\\text{Var}_{\\textit{left}} = \\frac{d^2}{dx}\\frac{1}{\\gamma}M_{\\xi,-a,b}(2) + \\frac{d^2}{dx}\\frac{1}{\\gamma}M_{\\mu,\\sigma,l}(2)\n",
    "\\\\\\text{Var}_{\\textit{right}} = \\frac{1}{\\gamma}\\text{Var}_{\\mu,\\sigma,u} + \\frac{1}{\\gamma}\\text{Var}_{\\xi,a,b}\n",
    "\\\\\\text{Var}_{\\textit{left}} = \\frac{1}{\\gamma}\\text{Var}_{\\xi,-a,b} + \\frac{1}{\\gamma}\\text{Var}_{\\mu,\\sigma,l}\n",
    "\\\\\\text{Var}_{\\textit{phat}} = .5*\\text{Var}_{\\textit{right}} + .5*\\text{Var}_{\\textit{left}}\n",
    "$$\n",
    "\n",
    "Note that no negative is applied to the second moment as it eliminated bystanders the square.\n",
    "\n",
    "And so the variance of the Phat is found as:"
   ]
  },
  {
   "cell_type": "code",
   "execution_count": 6,
   "metadata": {},
   "outputs": [],
   "source": [
    "bvar = scist.truncnorm(\n",
    "    -np.inf, \n",
    "    phat.right.loc, \n",
    "    *phat.right.body.args\n",
    ").var()\n",
    "tvar = phat.right.tail.var()\n",
    "rvar = (bvar + tvar) / phat.right.gamma"
   ]
  },
  {
   "cell_type": "code",
   "execution_count": 7,
   "metadata": {},
   "outputs": [],
   "source": [
    "bvar = scist.truncnorm(\n",
    "    phat.left.loc,\n",
    "    np.inf, \n",
    "    *phat.left.body.args\n",
    ").var()\n",
    "tvar = phat.left.tail.var()\n",
    "lvar = (bvar + tvar) / phat.left.gamma"
   ]
  },
  {
   "cell_type": "code",
   "execution_count": 8,
   "metadata": {},
   "outputs": [
    {
     "data": {
      "text/plain": [
       "0.4828404012432034"
      ]
     },
     "execution_count": 8,
     "metadata": {},
     "output_type": "execute_result"
    }
   ],
   "source": [
    "lvar"
   ]
  },
  {
   "cell_type": "markdown",
   "metadata": {},
   "source": [
    "The variance for the Phat distribution is then: "
   ]
  },
  {
   "cell_type": "code",
   "execution_count": 9,
   "metadata": {
    "scrolled": true
   },
   "outputs": [
    {
     "data": {
      "text/plain": [
       "0.5732923559721449"
      ]
     },
     "execution_count": 9,
     "metadata": {},
     "output_type": "execute_result"
    }
   ],
   "source": [
    "np.mean((lvar, rvar))"
   ]
  },
  {
   "cell_type": "markdown",
   "metadata": {},
   "source": [
    "This is avialable as `var` method of the Phat distribution."
   ]
  },
  {
   "cell_type": "code",
   "execution_count": 10,
   "metadata": {},
   "outputs": [
    {
     "data": {
      "text/plain": [
       "0.5732923559721449"
      ]
     },
     "execution_count": 10,
     "metadata": {},
     "output_type": "execute_result"
    }
   ],
   "source": [
    "phat.var()"
   ]
  }
 ],
 "metadata": {
  "kernelspec": {
   "display_name": "Python 3 (ipykernel)",
   "language": "python",
   "name": "python3"
  },
  "language_info": {
   "codemirror_mode": {
    "name": "ipython",
    "version": 3
   },
   "file_extension": ".py",
   "mimetype": "text/x-python",
   "name": "python",
   "nbconvert_exporter": "python",
   "pygments_lexer": "ipython3",
   "version": "3.8.6"
  }
 },
 "nbformat": 4,
 "nbformat_minor": 4
}
